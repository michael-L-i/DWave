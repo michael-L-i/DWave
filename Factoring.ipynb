{
  "nbformat": 4,
  "nbformat_minor": 0,
  "metadata": {
    "colab": {
      "name": "Factoring.ipynb",
      "provenance": [],
      "collapsed_sections": [],
      "include_colab_link": true
    },
    "kernelspec": {
      "name": "python3",
      "display_name": "Python 3"
    }
  },
  "cells": [
    {
      "cell_type": "markdown",
      "metadata": {
        "id": "view-in-github",
        "colab_type": "text"
      },
      "source": [
        "<a href=\"https://colab.research.google.com/github/michael-L-i/DWave/blob/master/Factoring.ipynb\" target=\"_parent\"><img src=\"https://colab.research.google.com/assets/colab-badge.svg\" alt=\"Open In Colab\"/></a>"
      ]
    },
    {
      "cell_type": "markdown",
      "metadata": {
        "id": "ewKzya0p6FiL",
        "colab_type": "text"
      },
      "source": [
        "\n",
        "# 1. Solving the factoring problem algebraically"
      ]
    },
    {
      "cell_type": "markdown",
      "metadata": {
        "id": "WLtiOFH_6LxJ",
        "colab_type": "text"
      },
      "source": [
        "The factoring problem: Given a  large number $M$, the gaol is find the two prime factors $p$ and $q$ such that\n",
        "$$\n",
        "M = p q.\n",
        "$$\n",
        "For instance, if $M=15$ then $p=3$ and $q=5$. To solve this problem on D-Wave (using quantum annealing) we have to map the problem of finding $p$ and $q$ from the integer domain to the binary domain. Let's say, we would like to factor $M=15$. First, we write \n",
        "$$\n",
        " p = p_0 + 2 p_1 + 4 p_2\\, \\mbox{and}\\, q = q_0 + 2 q_1 + 4 q_2. \n",
        "$$\n",
        "Now the prolem becomes: find the $p_i$ and $q_i$ such that\n",
        "$$\n",
        "M = (p_0 + 2 p_1 + 4 p_2) (q_0 + 2 q_1 + 4 q_2).\n",
        "$$\n",
        "Let's do the calculations:\n"
      ]
    },
    {
      "cell_type": "code",
      "metadata": {
        "id": "6dYCuysSy0__",
        "colab_type": "code",
        "colab": {}
      },
      "source": [
        "from sympy import *\n",
        "p = IndexedBase(\"p\")\n",
        "q = IndexedBase(\"q\")"
      ],
      "execution_count": null,
      "outputs": []
    },
    {
      "cell_type": "code",
      "metadata": {
        "id": "46wgG8K21AG8",
        "colab_type": "code",
        "colab": {
          "base_uri": "https://localhost:8080/",
          "height": 54
        },
        "outputId": "ac05a112-5466-4b52-f51f-dcbfd48427d7"
      },
      "source": [
        "eq = 15 - ((p[0] + 2* p[1] + 4 *p[2]) * (q[0] + 2 *q[1] + 4 *q[2]) )\n",
        "expand(eq)"
      ],
      "execution_count": null,
      "outputs": [
        {
          "output_type": "execute_result",
          "data": {
            "text/plain": [
              "-p[0]*q[0] - 2*p[0]*q[1] - 4*p[0]*q[2] - 2*p[1]*q[0] - 4*p[1]*q[1] - 8*p[1]*q[2] - 4*p[2]*q[0] - 8*p[2]*q[1] - 16*p[2]*q[2] + 15"
            ]
          },
          "metadata": {
            "tags": []
          },
          "execution_count": 16
        }
      ]
    },
    {
      "cell_type": "markdown",
      "metadata": {
        "id": "SUg9Ytut2W-U",
        "colab_type": "text"
      },
      "source": [
        "The goal is now to solve $eq =0$. As the title of this section indicates, it is possible to solve this algebraically {\\it without a quantum computer} (but not efficiently). Let's explain how this before we move ahead with quantum annealing: Let's state the problem one more time:\n",
        "\n",
        "Find $p_i$s and $q_i$s such that:\n",
        "\n",
        "*   $eq=0$ where $eq$ is given in the above cell\n",
        "*   all $p_i$s and $q_i$s are binary: \n",
        "$p_i (p_i-1)=0$ and $q_i (q_i-1)=0$. So we ended up with a set of algebraic equations\n",
        "$$\n",
        "  \\mathcal S = \\{eq=0, p_0 (p_0-1)=0,p_1 (p_1-1)=0,p_2 (p_2-1)=0, q_0 (q_0-1)=0, q_1 (q_1-1)=0, q_2 (q_2-1)=0 \\}.\n",
        "$$\n",
        "This system can be constructed as follows: \n",
        "\n",
        "\n"
      ]
    },
    {
      "cell_type": "code",
      "metadata": {
        "id": "gCpIZCbp2zGv",
        "colab_type": "code",
        "colab": {
          "base_uri": "https://localhost:8080/",
          "height": 154
        },
        "outputId": "1a0f81f5-e482-4431-e6de-a65c2075e3d3"
      },
      "source": [
        "S = [expand(eq)]\n",
        "for i in range(3):\n",
        "  S += [p[i]*(p[i]-1), q[i]*(q[i]-1)]\n",
        "S"
      ],
      "execution_count": null,
      "outputs": [
        {
          "output_type": "execute_result",
          "data": {
            "text/plain": [
              "[-p[0]*q[0] - 2*p[0]*q[1] - 4*p[0]*q[2] - 2*p[1]*q[0] - 4*p[1]*q[1] - 8*p[1]*q[2] - 4*p[2]*q[0] - 8*p[2]*q[1] - 16*p[2]*q[2] + 15,\n",
              " (p[0] - 1)*p[0],\n",
              " (q[0] - 1)*q[0],\n",
              " (p[1] - 1)*p[1],\n",
              " (q[1] - 1)*q[1],\n",
              " (p[2] - 1)*p[2],\n",
              " (q[2] - 1)*q[2]]"
            ]
          },
          "metadata": {
            "tags": []
          },
          "execution_count": 17
        }
      ]
    },
    {
      "cell_type": "markdown",
      "metadata": {
        "id": "82VcgY0O63VF",
        "colab_type": "text"
      },
      "source": [
        "To solve the system $\\mathcal S$ we use Groebner bases technique:"
      ]
    },
    {
      "cell_type": "code",
      "metadata": {
        "id": "mKxkL9e75FSm",
        "colab_type": "code",
        "colab": {
          "base_uri": "https://localhost:8080/",
          "height": 54
        },
        "outputId": "52f3fa9d-af16-461a-f51c-c46afa983537"
      },
      "source": [
        "groebner(S, p[0], p[1], p[2], q[0], q[1], q[2] , order='lex')"
      ],
      "execution_count": null,
      "outputs": [
        {
          "output_type": "execute_result",
          "data": {
            "text/plain": [
              "GroebnerBasis([p[0] - 1, p[1] - q[2], p[2] + q[2] - 1, q[0] - 1, q[1] + q[2] - 1, q[2]**2 - q[2]], p[0], p[1], p[2], q[0], q[1], q[2], domain='ZZ', order='lex')"
            ]
          },
          "metadata": {
            "tags": []
          },
          "execution_count": 18
        }
      ]
    },
    {
      "cell_type": "code",
      "metadata": {
        "id": "dJfxYjoQ5hh_",
        "colab_type": "code",
        "colab": {
          "base_uri": "https://localhost:8080/",
          "height": 50
        },
        "outputId": "cc6a72c1-668e-44b6-d5e2-f545d9be2485"
      },
      "source": [
        "solve([p[0] - 1, p[1] - q[2], p[2] + q[2] - 1, q[0] - 1, q[1] + q[2] - 1, q[2]**2 - q[2]], p[0], p[1], p[2], q[0], q[1], q[2] )"
      ],
      "execution_count": null,
      "outputs": [
        {
          "output_type": "execute_result",
          "data": {
            "text/plain": [
              "[{p[0]: 1, p[1]: 0, p[2]: 1, q[0]: 1, q[1]: 1, q[2]: 0},\n",
              " {p[0]: 1, p[1]: 1, p[2]: 0, q[0]: 1, q[1]: 0, q[2]: 1}]"
            ]
          },
          "metadata": {
            "tags": []
          },
          "execution_count": 19
        }
      ]
    },
    {
      "cell_type": "markdown",
      "metadata": {
        "id": "bM1eZBcF7BqK",
        "colab_type": "text"
      },
      "source": [
        "Next we generalize this procedure: "
      ]
    },
    {
      "cell_type": "code",
      "metadata": {
        "id": "aeqvosha8Rnq",
        "colab_type": "code",
        "colab": {}
      },
      "source": [
        "from math import log2 \n",
        "from math import *"
      ],
      "execution_count": null,
      "outputs": []
    },
    {
      "cell_type": "markdown",
      "metadata": {
        "id": "-fq70X69OQir",
        "colab_type": "text"
      },
      "source": [
        "Notice that $M=pq$ implies that $log_2(M) = log_2(p) + log_2(q)$, which means the number of bits allocated to $p$ and $q$ adds up to the number of bit in $M$ (the number of bits being $ceiling(log_2(x))$). This will guarantee we are not injecting more variables than we are suposed to. "
      ]
    },
    {
      "cell_type": "code",
      "metadata": {
        "id": "1PJx0YhT8Yq7",
        "colab_type": "code",
        "colab": {}
      },
      "source": [
        "def factorBiPrime(M):\n",
        "  ceiling = ceil\n",
        "\n",
        "  p_eq =0 \n",
        "  q_eq = 0\n",
        "  varlist = []\n",
        "  S = []\n",
        "\n",
        "  Mb = ceiling(log2(M))\n",
        "  Pb = ceiling(log2(M)/2)+1\n",
        "  Qb = Mb-Pb +1 \n",
        "\n",
        "  for i in range (Pb):\n",
        "    p_eq += p[i]*2**i\n",
        "    varlist += [p[i]]\n",
        "    S += [p[i]*(p[i]-1)]\n",
        "\n",
        "  for i in range(Qb):\n",
        "    q_eq += q[i]*2**i \n",
        "    varlist += [q[i]] \n",
        "    S += [q[i]*(q[i]-1)]\n",
        "\n",
        "  eq = M - (p_eq)*(q_eq)\n",
        "  S += [eq]\n",
        "    \n",
        "\n",
        "  sol = (solve(groebner(S, varlist , order='lex'), varlist))\n",
        "  \n",
        "  for x in sol.items():\n",
        "    p_eq = p_eq.subs(x[0], x[1])\n",
        "    q_eq = q_eq.subs(x[0], x[1])\n",
        "  return p_eq, q_eq"
      ],
      "execution_count": null,
      "outputs": []
    },
    {
      "cell_type": "code",
      "metadata": {
        "id": "K-QmYP_OBfll",
        "colab_type": "code",
        "colab": {
          "base_uri": "https://localhost:8080/",
          "height": 34
        },
        "outputId": "28edee0d-a6e6-4f5f-b4b5-5c290962fe1d"
      },
      "source": [
        "factorBiPrime(77)"
      ],
      "execution_count": null,
      "outputs": [
        {
          "output_type": "execute_result",
          "data": {
            "text/plain": [
              "(11, 7)"
            ]
          },
          "metadata": {
            "tags": []
          },
          "execution_count": 54
        }
      ]
    },
    {
      "cell_type": "markdown",
      "metadata": {
        "id": "jf4js9oo7VEa",
        "colab_type": "text"
      },
      "source": [
        "# 2. Solving the factoring problem using DWAVE (first approach)"
      ]
    },
    {
      "cell_type": "markdown",
      "metadata": {
        "id": "VYoUJkaeKoVC",
        "colab_type": "text"
      },
      "source": [
        "The goal is to solve $eq=0$ using QA. However is DWAVE is a minimizer i.e., finds the minimum of the cost function. Therefore, we have to map our problem of finding the zeros (solutions) of the equation $eq=0$ into finding the minimum of a certain function. We do this with the following observation:\n",
        "\n",
        "The solutions ($pi$ and $qi$) of the equation eq =0 are exactly the minima of the cost function $Q = eq^2$. Recall \n",
        "$$\n",
        "eq = 15 - ((p_0 + 2 p_1) (q_0 + 2 q_1 + 4q_2) ).\n",
        "$$"
      ]
    },
    {
      "cell_type": "code",
      "metadata": {
        "id": "oMgF_NFxLXhi",
        "colab_type": "code",
        "colab": {}
      },
      "source": [
        "eq = 15 - ((p[0] + 2* p[1] + 4 *p[2]) * (q[0] + 2 *q[1] + 4 *q[2]) )"
      ],
      "execution_count": null,
      "outputs": []
    },
    {
      "cell_type": "code",
      "metadata": {
        "id": "yiRKSX3cL_U7",
        "colab_type": "code",
        "colab": {
          "base_uri": "https://localhost:8080/",
          "height": 54
        },
        "outputId": "06a12a1e-e870-480c-ebab-8bd5c073634f"
      },
      "source": [
        "preQ = expand(eq**2)\n",
        "preQ"
      ],
      "execution_count": null,
      "outputs": [
        {
          "output_type": "execute_result",
          "data": {
            "text/plain": [
              "p[0]**2*q[0]**2 + 4*p[0]**2*q[0]*q[1] + 8*p[0]**2*q[0]*q[2] + 4*p[0]**2*q[1]**2 + 16*p[0]**2*q[1]*q[2] + 16*p[0]**2*q[2]**2 + 4*p[0]*p[1]*q[0]**2 + 16*p[0]*p[1]*q[0]*q[1] + 32*p[0]*p[1]*q[0]*q[2] + 16*p[0]*p[1]*q[1]**2 + 64*p[0]*p[1]*q[1]*q[2] + 64*p[0]*p[1]*q[2]**2 + 8*p[0]*p[2]*q[0]**2 + 32*p[0]*p[2]*q[0]*q[1] + 64*p[0]*p[2]*q[0]*q[2] + 32*p[0]*p[2]*q[1]**2 + 128*p[0]*p[2]*q[1]*q[2] + 128*p[0]*p[2]*q[2]**2 - 30*p[0]*q[0] - 60*p[0]*q[1] - 120*p[0]*q[2] + 4*p[1]**2*q[0]**2 + 16*p[1]**2*q[0]*q[1] + 32*p[1]**2*q[0]*q[2] + 16*p[1]**2*q[1]**2 + 64*p[1]**2*q[1]*q[2] + 64*p[1]**2*q[2]**2 + 16*p[1]*p[2]*q[0]**2 + 64*p[1]*p[2]*q[0]*q[1] + 128*p[1]*p[2]*q[0]*q[2] + 64*p[1]*p[2]*q[1]**2 + 256*p[1]*p[2]*q[1]*q[2] + 256*p[1]*p[2]*q[2]**2 - 60*p[1]*q[0] - 120*p[1]*q[1] - 240*p[1]*q[2] + 16*p[2]**2*q[0]**2 + 64*p[2]**2*q[0]*q[1] + 128*p[2]**2*q[0]*q[2] + 64*p[2]**2*q[1]**2 + 256*p[2]**2*q[1]*q[2] + 256*p[2]**2*q[2]**2 - 120*p[2]*q[0] - 240*p[2]*q[1] - 480*p[2]*q[2] + 225"
            ]
          },
          "metadata": {
            "tags": []
          },
          "execution_count": 27
        }
      ]
    },
    {
      "cell_type": "markdown",
      "metadata": {
        "id": "4m3EOrDjMqT6",
        "colab_type": "text"
      },
      "source": [
        "We are not done yet because we still have to map $preQ$ to a quadratic cost function $Q$. DWAVE takes only quadratic cost functions (Ising models). "
      ]
    }
  ]
}